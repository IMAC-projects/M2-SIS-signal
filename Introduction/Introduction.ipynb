{
 "cells": [
  {
   "cell_type": "markdown",
   "metadata": {},
   "source": [
    "# Introduction\n",
    "\n",
    "> Introduction au cours de représentation et filtrage numérique 1D/2D du M2 SIS.\n",
    "\n",
    "## Sommaire\n",
    "\n",
    "[**Décomposition signal dans une base**](#Décomposition-signal-dans-une-base)\n",
    "\n",
    "[**Projection orthogonale**](#Projection-orthogonale)"
   ]
  },
  {
   "cell_type": "markdown",
   "metadata": {},
   "source": [
    "## Décomposition signal dans une base\n",
    "\n",
    "**<font color=red>Échantillonnage </font>** : signal analogique vers numérique\n",
    "\n",
    "**<font color=red>Interpolation </font>** : signal numérique vers analogique\n",
    "\n",
    "Décomposition en signaux élémentaire : \n",
    "* dans un espace Euclidien ($\\mathbb{R}$)\n",
    "* $\\forall $ vecteur $f$. $ f = (f_1, ..., f_n) = \\sum_{i=1}^{n} (f_{i}+e_{i})$\n",
    "* une image peut donc s'écrire : $$ I = \\sum_{i,j}^{} I(i,j)e_{ij}\n",
    "\\\\ avec \\ e_{i,j}(k,l) = 1 \\ \\text{si} \\ k = i \\ et \\ l = j\n",
    "\\\\ 0 \\ sinon $$\n",
    "\n",
    "**<font color=red>Approximation linéaire </font>** : \n",
    "Chercher des coefficients $\\lambda_i$ tq $$ f \\approx \\sum_{i=1}^{p} \\lambda_i \\nu_i \n",
    "\\\\ avec \\ (\\nu_1, ..., \\nu_p) \\ des \\ vecteurs \\ d'intérêt $$\n",
    "\n",
    "On considère un cas particulier : la famille $(\\nu_1, ..., \\nu_p)$ est **orthonormée**.\n",
    "\n",
    "Rappel : \n",
    "* $ \\lVert \\nu_{i} \\rVert = 1 \\to $ normée\n",
    "* $ <v_i, v_j> = 0 \\ si \\ i \\neq j \\to $ orthogonalité\n",
    "* $ \\lVert f \\rVert = \\sqrt{<f,f>} $\n",
    "* $ \\lVert f + g \\rVert \\leq  \\lVert f \\rVert +  \\lVert g \\rVert$\n",
    "\n",
    "Remarque :\n",
    "\n",
    "Sur $\\mathbb{R}^n $, le produit scalaire (canonique) : $$ <x,y> = \\sum_{i=1}^{n} x_i y_i $$\n",
    "$$ f = \\sum_{i=1}^{p} <f, \\nu_i> \\nu_i + \\ reste $$\n",
    "\n",
    "## Projection orthogonale\n",
    "\n",
    "On considère $<f,g> = \\sum_{i=1}^{n} f_i g_i $, produit scalaire sur $\\mathbb{R}^n $\n",
    "\n",
    "**<font color=red>Propriétés </font>** : \n",
    "* $ <f + \\lambda g, h> = <f,h> + \\lambda <g,h>, \\lambda in \\mathbb{R} $\n",
    "* $ <f,f> \\geq 0 $\n",
    "* $ <f,f> = 0 \\Leftrightarrow f = 0 $\n",
    "* $ <f,g> = <g,f> $\n",
    "\n",
    "Sur les signaux continu : \n",
    "$$ f,g : [0,1]^2 \\to \\mathbb{R} \n",
    "\\\\ <f,g> = \\int_{\\mathbb{}}^{}\\int_{\\mathbb{[0,1]^2}}^{} f(x) g(x) \\ dx $$\n",
    "\n",
    "Sur les signaux discret :\n",
    "$$ f,g \\in \\mathbb{R}^n\n",
    "\\\\ <f,g> = \\frac{1}{N} \\sum_{i=1}^{N}f_i g_i$$\n",
    "\n",
    "On peut résumer un signal en coefficients associé à une fonction d'évaluation. On utilise pour cela la décomposition de Fourier et on garde les coefficients significatifs. Pour un signal discontinu, on aura besoin de plus de coefficients.\n",
    "\n",
    "L'effet de bord est appelé **phénomène de Gibbs**."
   ]
  },
  {
   "cell_type": "code",
   "execution_count": null,
   "metadata": {},
   "outputs": [],
   "source": []
  }
 ],
 "metadata": {
  "kernelspec": {
   "display_name": "Python 3",
   "language": "python",
   "name": "python3"
  },
  "language_info": {
   "codemirror_mode": {
    "name": "ipython",
    "version": 3
   },
   "file_extension": ".py",
   "mimetype": "text/x-python",
   "name": "python",
   "nbconvert_exporter": "python",
   "pygments_lexer": "ipython3",
   "version": "3.7.6"
  }
 },
 "nbformat": 4,
 "nbformat_minor": 4
}
