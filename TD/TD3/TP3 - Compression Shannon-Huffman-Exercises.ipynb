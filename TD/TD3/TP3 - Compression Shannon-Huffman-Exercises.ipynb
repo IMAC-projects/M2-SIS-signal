{
 "cells": [
  {
   "cell_type": "markdown",
   "metadata": {},
   "source": [
    "# TP3 : Compression Shannon-Huffman"
   ]
  },
  {
   "cell_type": "markdown",
   "metadata": {},
   "source": [
    "## A. The goal of this part is to implement the Huffman coding and how it can be enhanced to reach the optimal bound."
   ]
  },
  {
   "cell_type": "code",
   "execution_count": 2,
   "metadata": {},
   "outputs": [],
   "source": [
    "from __future__ import division\n",
    "import numpy as np\n",
    "import scipy as sp\n",
    "import pylab as pl\n",
    "import scipy.signal as sg\n",
    "import matplotlib.pyplot as plt"
   ]
  },
  {
   "cell_type": "markdown",
   "metadata": {},
   "source": [
    "### The definition of the entropy: Given a probability vector on a finite space $\\Omega = \\{\\omega_1,\\ldots,\\omega_n\\}$ denoted by $p = (p_1,\\ldots,p_n)$. The entropy is the quantity defined by $H(p) = -\\sum_{i = 1}^n p_i \\log(p_i)$. It's a concave function which is positive since $p_i \\in [0,1]$ and thus $\\log(p_i) \\leq 0$."
   ]
  },
  {
   "cell_type": "code",
   "execution_count": 3,
   "metadata": {},
   "outputs": [],
   "source": [
    "def ShannonEntropy(p):\n",
    "    return -np.sum(p*np.log2(np.maximum(p,1e-15)))"
   ]
  },
  {
   "cell_type": "code",
   "execution_count": 4,
   "metadata": {},
   "outputs": [
    {
     "data": {
      "text/plain": [
       "[<matplotlib.lines.Line2D at 0x1208fcca550>]"
      ]
     },
     "execution_count": 4,
     "metadata": {},
     "output_type": "execute_result"
    },
    {
     "data": {
      "image/png": "[encoded data removed]",
      "text/plain": [
       "<Figure size 432x288 with 1 Axes>"
      ]
     },
     "metadata": {
      "needs_background": "light"
     },
     "output_type": "display_data"
    }
   ],
   "source": [
    "n = 200\n",
    "x = np.linspace(1e-10,1,n)\n",
    "plt.title(\"Shannon entropy\")\n",
    "plt.plot(x,-x*np.log2(x))"
   ]
  },
  {
   "cell_type": "markdown",
   "metadata": {},
   "source": [
    "### In what follows, we consider that the $\\omega_i$ are letters of some alphabet which have a frequency of appearance of $p_i$."
   ]
  },
  {
   "cell_type": "code",
   "execution_count": 5,
   "metadata": {},
   "outputs": [
    {
     "name": "stdout",
     "output_type": "stream",
     "text": [
      "[0.32617188 0.67382812]\n",
      "Empirical p = 0.33\n"
     ]
    }
   ],
   "source": [
    "## Generate a random text according to the frequencies.\n",
    "n = 512; p = 0.3\n",
    "x = (np.random.rand(n) > p) + 1\n",
    "h = [np.sum(x == 1), np.sum(x == 2)]\n",
    "h = h/np.sum(h)\n",
    "print(h)\n",
    "print(\"Empirical p = %.2f\" %h[0])"
   ]
  },
  {
   "cell_type": "code",
   "execution_count": 6,
   "metadata": {},
   "outputs": [
    {
     "name": "stdout",
     "output_type": "stream",
     "text": [
      "Entropy = 0.91\n"
     ]
    }
   ],
   "source": [
    "e = ShannonEntropy(h)\n",
    "print(\"Entropy = %.2f\" %e)"
   ]
  },
  {
   "cell_type": "code",
   "execution_count": 7,
   "metadata": {},
   "outputs": [
    {
     "name": "stdout",
     "output_type": "stream",
     "text": [
      "2.1464393446710153\n"
     ]
    }
   ],
   "source": [
    "### Definition of the probability h\n",
    "h = [.1, .15, .4, .15, .2]\n",
    "print(ShannonEntropy(h))"
   ]
  },
  {
   "cell_type": "markdown",
   "metadata": {},
   "source": [
    "### We use a python library to represent a binary tree. We assume that the tree is coded in the following way, here is an example, $(a,((b,c),(d,e))$."
   ]
  },
  {
   "cell_type": "code",
   "execution_count": 8,
   "metadata": {},
   "outputs": [
    {
     "data": {
      "image/svg+xml": [
       "<?xml version=\"1.0\" encoding=\"UTF-8\"?>\n",
       "<svg xmlns=\"http://www.w3.org/2000/svg\" xmlns:xlink=\"http://www.w3.org/1999/xlink\" width=\"300pt\" height=\"300pt\" viewBox=\"0 0 300 300\" version=\"1.1\">\n",
       "<defs>\n",
       "<g>\n",
       "<symbol overflow=\"visible\" id=\"glyph0-0\">\n",
       "<path style=\"stroke:none;\" d=\"M 1.75 0 L 1.75 -8.75 L 8.75 -8.75 L 8.75 0 Z M 1.96875 -0.21875 L 8.53125 -0.21875 L 8.53125 -8.53125 L 1.96875 -8.53125 Z M 1.96875 -0.21875 \"/>\n",
       "</symbol>\n",
       "<symbol overflow=\"visible\" id=\"glyph0-1\">\n",
       "<path style=\"stroke:none;\" d=\"M -0.0195313 0 L 3.828125 -10.023438 L 5.257813 -10.023438 L 9.359375 0 L 7.847656 0 L 6.679688 -3.035156 L 2.488281 -3.035156 L 1.386719 0 Z M 2.871094 -4.117188 L 6.269531 -4.117188 L 5.222656 -6.890625 C 4.898438 -7.734375 4.664063 -8.425781 4.511719 -8.96875 C 4.382813 -8.324219 4.203125 -7.6875 3.972656 -7.054688 Z M 2.871094 -4.117188 \"/>\n",
       "</symbol>\n",
       "<symbol overflow=\"visible\" id=\"glyph0-2\">\n",
       "<path style=\"stroke:none;\" d=\"\"/>\n",
       "</symbol>\n",
       "<symbol overflow=\"visible\" id=\"glyph0-3\">\n",
       "<path style=\"stroke:none;\" d=\"M 1.023438 0 L 1.023438 -10.023438 L 4.785156 -10.023438 C 5.546875 -10.019531 6.160156 -9.917969 6.625 -9.71875 C 7.085938 -9.511719 7.449219 -9.199219 7.714844 -8.78125 C 7.976563 -8.355469 8.109375 -7.914063 8.109375 -7.457031 C 8.109375 -7.027344 7.992188 -6.625 7.757813 -6.246094 C 7.523438 -5.867188 7.171875 -5.5625 6.707031 -5.332031 C 7.3125 -5.152344 7.777344 -4.847656 8.105469 -4.421875 C 8.425781 -3.992188 8.589844 -3.488281 8.59375 -2.90625 C 8.589844 -2.4375 8.492188 -2 8.296875 -1.597656 C 8.097656 -1.191406 7.851563 -0.878906 7.5625 -0.664063 C 7.269531 -0.441406 6.902344 -0.277344 6.464844 -0.167969 C 6.019531 -0.0546875 5.480469 0 4.847656 0 Z M 2.351563 -5.8125 L 4.519531 -5.8125 C 5.101563 -5.8125 5.523438 -5.847656 5.78125 -5.925781 C 6.117188 -6.023438 6.371094 -6.191406 6.542969 -6.425781 C 6.710938 -6.65625 6.796875 -6.949219 6.800781 -7.300781 C 6.796875 -7.632813 6.71875 -7.925781 6.5625 -8.179688 C 6.402344 -8.429688 6.171875 -8.601563 5.878906 -8.699219 C 5.578125 -8.789063 5.070313 -8.835938 4.355469 -8.839844 L 2.351563 -8.839844 Z M 2.351563 -1.183594 L 4.847656 -1.183594 C 5.269531 -1.183594 5.570313 -1.199219 5.75 -1.230469 C 6.050781 -1.285156 6.304688 -1.375 6.511719 -1.503906 C 6.714844 -1.628906 6.886719 -1.8125 7.019531 -2.058594 C 7.152344 -2.300781 7.21875 -2.585938 7.21875 -2.90625 C 7.21875 -3.277344 7.121094 -3.601563 6.929688 -3.878906 C 6.738281 -4.152344 6.472656 -4.34375 6.132813 -4.460938 C 5.792969 -4.570313 5.304688 -4.628906 4.667969 -4.628906 L 2.351563 -4.628906 Z M 2.351563 -1.183594 \"/>\n",
       "</symbol>\n",
       "<symbol overflow=\"visible\" id=\"glyph0-4\">\n",
       "<path style=\"stroke:none;\" d=\"M 1.078125 0 L 1.078125 -10.023438 L 4.53125 -10.023438 C 5.308594 -10.019531 5.90625 -9.972656 6.316406 -9.878906 C 6.890625 -9.746094 7.378906 -9.503906 7.785156 -9.160156 C 8.3125 -8.710938 8.707031 -8.140625 8.972656 -7.449219 C 9.230469 -6.75 9.363281 -5.957031 9.367188 -5.066406 C 9.363281 -4.300781 9.273438 -3.625 9.097656 -3.039063 C 8.917969 -2.449219 8.691406 -1.964844 8.414063 -1.582031 C 8.136719 -1.195313 7.832031 -0.890625 7.503906 -0.671875 C 7.171875 -0.449219 6.773438 -0.28125 6.304688 -0.171875 C 5.835938 -0.0546875 5.296875 0 4.695313 0 Z M 2.40625 -1.183594 L 4.546875 -1.183594 C 5.207031 -1.183594 5.722656 -1.242188 6.101563 -1.367188 C 6.472656 -1.484375 6.773438 -1.660156 7 -1.886719 C 7.3125 -2.199219 7.558594 -2.621094 7.734375 -3.15625 C 7.910156 -3.683594 7.996094 -4.328125 8 -5.085938 C 7.996094 -6.132813 7.824219 -6.9375 7.480469 -7.5 C 7.132813 -8.0625 6.714844 -8.4375 6.226563 -8.632813 C 5.871094 -8.765625 5.300781 -8.835938 4.511719 -8.839844 L 2.40625 -8.839844 Z M 2.40625 -1.183594 \"/>\n",
       "</symbol>\n",
       "<symbol overflow=\"visible\" id=\"glyph0-5\">\n",
       "<path style=\"stroke:none;\" d=\"M 1.109375 0 L 1.109375 -10.023438 L 8.351563 -10.023438 L 8.351563 -8.839844 L 2.433594 -8.839844 L 2.433594 -5.769531 L 7.976563 -5.769531 L 7.976563 -4.59375 L 2.433594 -4.59375 L 2.433594 -1.183594 L 8.585938 -1.183594 L 8.585938 0 Z M 1.109375 0 \"/>\n",
       "</symbol>\n",
       "<symbol overflow=\"visible\" id=\"glyph0-6\">\n",
       "<path style=\"stroke:none;\" d=\"M 8.230469 -3.515625 L 9.554688 -3.179688 C 9.277344 -2.089844 8.777344 -1.257813 8.054688 -0.6875 C 7.332031 -0.113281 6.449219 0.167969 5.40625 0.171875 C 4.324219 0.167969 3.445313 -0.046875 2.773438 -0.488281 C 2.09375 -0.925781 1.578125 -1.5625 1.226563 -2.398438 C 0.867188 -3.226563 0.691406 -4.125 0.695313 -5.085938 C 0.691406 -6.128906 0.890625 -7.039063 1.292969 -7.816406 C 1.691406 -8.59375 2.257813 -9.183594 2.996094 -9.585938 C 3.730469 -9.988281 4.542969 -10.1875 5.429688 -10.191406 C 6.425781 -10.1875 7.269531 -9.933594 7.957031 -9.425781 C 8.640625 -8.914063 9.117188 -8.195313 9.386719 -7.273438 L 8.078125 -6.964844 C 7.84375 -7.691406 7.507813 -8.222656 7.066406 -8.558594 C 6.625 -8.890625 6.066406 -9.058594 5.398438 -9.058594 C 4.625 -9.058594 3.984375 -8.871094 3.46875 -8.503906 C 2.953125 -8.128906 2.589844 -7.632813 2.378906 -7.015625 C 2.167969 -6.390625 2.0625 -5.75 2.0625 -5.09375 C 2.0625 -4.234375 2.183594 -3.492188 2.433594 -2.859375 C 2.679688 -2.222656 3.066406 -1.746094 3.59375 -1.433594 C 4.117188 -1.117188 4.6875 -0.960938 5.296875 -0.964844 C 6.039063 -0.960938 6.667969 -1.175781 7.183594 -1.605469 C 7.699219 -2.035156 8.046875 -2.671875 8.230469 -3.515625 Z M 8.230469 -3.515625 \"/>\n",
       "</symbol>\n",
       "</g>\n",
       "</defs>\n",
       "<g id=\"surface2\">\n",
       "<rect x=\"0\" y=\"0\" width=\"300\" height=\"300\" style=\"fill:rgb(100%,100%,100%);fill-opacity:1;stroke:none;\"/>\n",
       "<path style=\"fill:none;stroke-width:1;stroke-linecap:butt;stroke-linejoin:miter;stroke:rgb(26.666667%,26.666667%,26.666667%);stroke-opacity:1;stroke-miterlimit:10;\" d=\"M 150 20 L 150 106.667969 \"/>\n",
       "<path style=\"fill:none;stroke-width:1;stroke-linecap:butt;stroke-linejoin:miter;stroke:rgb(26.666667%,26.666667%,26.666667%);stroke-opacity:1;stroke-miterlimit:10;\" d=\"M 150 106.667969 L 63.332031 193.332031 \"/>\n",
       "<path style=\"fill:none;stroke-width:1;stroke-linecap:butt;stroke-linejoin:miter;stroke:rgb(26.666667%,26.666667%,26.666667%);stroke-opacity:1;stroke-miterlimit:10;\" d=\"M 150 106.667969 L 236.667969 193.332031 \"/>\n",
       "<path style=\"fill:none;stroke-width:1;stroke-linecap:butt;stroke-linejoin:miter;stroke:rgb(26.666667%,26.666667%,26.666667%);stroke-opacity:1;stroke-miterlimit:10;\" d=\"M 236.667969 193.332031 L 193.332031 280 \"/>\n",
       "<path style=\"fill:none;stroke-width:1;stroke-linecap:butt;stroke-linejoin:miter;stroke:rgb(26.666667%,26.666667%,26.666667%);stroke-opacity:1;stroke-miterlimit:10;\" d=\"M 236.667969 193.332031 L 280 280 \"/>\n",
       "<path style=\"fill:none;stroke-width:1;stroke-linecap:butt;stroke-linejoin:miter;stroke:rgb(26.666667%,26.666667%,26.666667%);stroke-opacity:1;stroke-miterlimit:10;\" d=\"M 63.332031 193.332031 L 106.667969 280 \"/>\n",
       "<path style=\"fill:none;stroke-width:1;stroke-linecap:butt;stroke-linejoin:miter;stroke:rgb(26.666667%,26.666667%,26.666667%);stroke-opacity:1;stroke-miterlimit:10;\" d=\"M 63.332031 193.332031 L 20 280 \"/>\n",
       "<path style=\"fill-rule:nonzero;fill:rgb(100%,0%,0%);fill-opacity:1;stroke-width:1;stroke-linecap:butt;stroke-linejoin:miter;stroke:rgb(0%,0%,0%);stroke-opacity:1;stroke-miterlimit:10;\" d=\"M 160 20 C 160 25.523438 155.523438 30 150 30 C 144.476563 30 140 25.523438 140 20 C 140 14.476563 144.476563 10 150 10 C 155.523438 10 160 14.476563 160 20 \"/>\n",
       "<path style=\"fill-rule:nonzero;fill:rgb(100%,0%,0%);fill-opacity:1;stroke-width:1;stroke-linecap:butt;stroke-linejoin:miter;stroke:rgb(0%,0%,0%);stroke-opacity:1;stroke-miterlimit:10;\" d=\"M 160 106.667969 C 160 112.191406 155.523438 116.667969 150 116.667969 C 144.476563 116.667969 140 112.191406 140 106.667969 C 140 101.144531 144.476563 96.667969 150 96.667969 C 155.523438 96.667969 160 101.144531 160 106.667969 \"/>\n",
       "<path style=\"fill-rule:nonzero;fill:rgb(100%,0%,0%);fill-opacity:1;stroke-width:1;stroke-linecap:butt;stroke-linejoin:miter;stroke:rgb(0%,0%,0%);stroke-opacity:1;stroke-miterlimit:10;\" d=\"M 73.332031 193.332031 C 73.332031 198.855469 68.855469 203.332031 63.332031 203.332031 C 57.808594 203.332031 53.332031 198.855469 53.332031 193.332031 C 53.332031 187.808594 57.808594 183.332031 63.332031 183.332031 C 68.855469 183.332031 73.332031 187.808594 73.332031 193.332031 \"/>\n",
       "<path style=\"fill-rule:nonzero;fill:rgb(100%,0%,0%);fill-opacity:1;stroke-width:1;stroke-linecap:butt;stroke-linejoin:miter;stroke:rgb(0%,0%,0%);stroke-opacity:1;stroke-miterlimit:10;\" d=\"M 246.667969 193.332031 C 246.667969 198.855469 242.191406 203.332031 236.667969 203.332031 C 231.144531 203.332031 226.667969 198.855469 226.667969 193.332031 C 226.667969 187.808594 231.144531 183.332031 236.667969 183.332031 C 242.191406 183.332031 246.667969 187.808594 246.667969 193.332031 \"/>\n",
       "<path style=\"fill-rule:nonzero;fill:rgb(100%,0%,0%);fill-opacity:1;stroke-width:1;stroke-linecap:butt;stroke-linejoin:miter;stroke:rgb(0%,0%,0%);stroke-opacity:1;stroke-miterlimit:10;\" d=\"M 30 280 C 30 285.523438 25.523438 290 20 290 C 14.476563 290 10 285.523438 10 280 C 10 274.476563 14.476563 270 20 270 C 25.523438 270 30 274.476563 30 280 \"/>\n",
       "<path style=\"fill-rule:nonzero;fill:rgb(100%,0%,0%);fill-opacity:1;stroke-width:1;stroke-linecap:butt;stroke-linejoin:miter;stroke:rgb(0%,0%,0%);stroke-opacity:1;stroke-miterlimit:10;\" d=\"M 203.332031 280 C 203.332031 285.523438 198.855469 290 193.332031 290 C 187.808594 290 183.332031 285.523438 183.332031 280 C 183.332031 274.476563 187.808594 270 193.332031 270 C 198.855469 270 203.332031 274.476563 203.332031 280 \"/>\n",
       "<path style=\"fill-rule:nonzero;fill:rgb(100%,0%,0%);fill-opacity:1;stroke-width:1;stroke-linecap:butt;stroke-linejoin:miter;stroke:rgb(0%,0%,0%);stroke-opacity:1;stroke-miterlimit:10;\" d=\"M 290 280 C 290 285.523438 285.523438 290 280 290 C 274.476563 290 270 285.523438 270 280 C 270 274.476563 274.476563 270 280 270 C 285.523438 270 290 274.476563 290 280 \"/>\n",
       "<path style=\"fill-rule:nonzero;fill:rgb(100%,0%,0%);fill-opacity:1;stroke-width:1;stroke-linecap:butt;stroke-linejoin:miter;stroke:rgb(0%,0%,0%);stroke-opacity:1;stroke-miterlimit:10;\" d=\"M 116.667969 280 C 116.667969 285.523438 112.191406 290 106.667969 290 C 101.144531 290 96.667969 285.523438 96.667969 280 C 96.667969 274.476563 101.144531 270 106.667969 270 C 112.191406 270 116.667969 274.476563 116.667969 280 \"/>\n",
       "<g style=\"fill:rgb(0%,0%,0%);fill-opacity:1;\">\n",
       "  <use xlink:href=\"#glyph0-1\" x=\"145.332031\" y=\"26.511719\"/>\n",
       "</g>\n",
       "<g style=\"fill:rgb(0%,0%,0%);fill-opacity:1;\">\n",
       "  <use xlink:href=\"#glyph0-2\" x=\"149.996094\" y=\"108.167969\"/>\n",
       "</g>\n",
       "<g style=\"fill:rgb(0%,0%,0%);fill-opacity:1;\">\n",
       "  <use xlink:href=\"#glyph0-2\" x=\"63.328125\" y=\"194.832031\"/>\n",
       "</g>\n",
       "<g style=\"fill:rgb(0%,0%,0%);fill-opacity:1;\">\n",
       "  <use xlink:href=\"#glyph0-2\" x=\"236.664063\" y=\"194.832031\"/>\n",
       "</g>\n",
       "<g style=\"fill:rgb(0%,0%,0%);fill-opacity:1;\">\n",
       "  <use xlink:href=\"#glyph0-3\" x=\"15.191406\" y=\"286.511719\"/>\n",
       "</g>\n",
       "<g style=\"fill:rgb(0%,0%,0%);fill-opacity:1;\">\n",
       "  <use xlink:href=\"#glyph0-4\" x=\"188.109375\" y=\"286.511719\"/>\n",
       "</g>\n",
       "<g style=\"fill:rgb(0%,0%,0%);fill-opacity:1;\">\n",
       "  <use xlink:href=\"#glyph0-5\" x=\"275.152344\" y=\"286.511719\"/>\n",
       "</g>\n",
       "<g style=\"fill:rgb(0%,0%,0%);fill-opacity:1;\">\n",
       "  <use xlink:href=\"#glyph0-6\" x=\"101.539063\" y=\"286.597656\"/>\n",
       "</g>\n",
       "</g>\n",
       "</svg>\n"
      ],
      "text/plain": [
       "<igraph.drawing.Plot at 0x12091d96790>"
      ]
     },
     "execution_count": 8,
     "metadata": {
      "image/svg+xml": {
       "isolated": true
      }
     },
     "output_type": "execute_result"
    }
   ],
   "source": [
    "import igraph as ig # also needs 'pip install pycairo'\n",
    "# https://igraph.org/python/doc/tutorial/tutorial.html#layouts-and-plotting\n",
    "\n",
    "g = ig.Graph()\n",
    "g.add_vertices(8)\n",
    "g.vs[\"name\"] = [\"A\", \" \", \" \", \" \", \"B\", \"D\", \"E\", \"C\"]\n",
    "g.add_edges([(0,1), (1,2), (1, 3), (3, 5), (3, 6), (2, 7), (2, 4)])\n",
    "\n",
    "# Display the graph\n",
    "visual_style = {}\n",
    "visual_style[\"bbox\"] = (300, 300)\n",
    "visual_style[\"vertex_label\"] = g.vs[\"name\"]\n",
    "ig.plot(g, layout = g.layout_reingold_tilford(root=[0]), **visual_style)\n"
   ]
  },
  {
   "cell_type": "markdown",
   "metadata": {},
   "source": [
    "### Q1. Write a function that generates the Huffman tree with the probability $h$ as input. Plot the tree with the function above. "
   ]
  },
  {
   "cell_type": "code",
   "execution_count": 24,
   "metadata": {},
   "outputs": [
    {
     "name": "stdout",
     "output_type": "stream",
     "text": [
      "\n",
      "                              E (0.2)\n",
      "\n",
      "                     (0.35)\n",
      "\n",
      "                              B (0.15)\n",
      "\n",
      "           (0.6)\n",
      "\n",
      "                              D (0.15)\n",
      "\n",
      "                     (0.25)\n",
      "\n",
      "                              A (0.1)\n",
      "\n",
      " (1.0)\n",
      "\n",
      "          C (0.4)\n"
     ]
    }
   ],
   "source": [
    "## Create the tree as a list.\n",
    "# https://www.math.upenn.edu/~deturck/m170/wk8/lecture/huffman/huffman.html\n",
    "# https://bhrigu.me/blog/2017/01/17/huffman-coding-python-implementation/\n",
    "\n",
    "class NodeTree(object):\n",
    "    def __init__(self, name, proba, left=None, right=None):\n",
    "        self.name = name\n",
    "        self.proba = proba\n",
    "        self.left = left\n",
    "        self.right = right\n",
    "\n",
    "# h a vector of proba\n",
    "def CreateTree(h):\n",
    "    nodes = [NodeTree(chr(65 + idx), proba) for idx, proba in enumerate(h)]\n",
    "    nodes = sorted(nodes, key=lambda node: node.proba, reverse=True)\n",
    "    \n",
    "    while (len(nodes) > 1):\n",
    "        left = nodes.pop()\n",
    "        right = nodes.pop()\n",
    "        node = NodeTree('', left.proba + right.proba, left, right)\n",
    "        nodes.append(node)\n",
    "        nodes = sorted(nodes, key=lambda node: node.proba, reverse=True)\n",
    "        \n",
    "    return nodes[0]\n",
    "\n",
    "# root a NodeTree root node\n",
    "def BuildIgGraph(root):\n",
    "    g = ig.Graph()\n",
    "    queue = [root]\n",
    "    parentId = g.add_vertex((root.name, root.proba)).index\n",
    "\n",
    "    while len(queue) > 0:\n",
    "        node = queue.pop()\n",
    "        if node.left:\n",
    "            queue.append(node.left)\n",
    "            id = g.add_vertex((node.left.name, node.left.proba)).index\n",
    "            g.add_edge(parentId, id)\n",
    "        if node.right:\n",
    "            queue.append(node.right)\n",
    "            id = g.add_vertex((node.right.name, node.right.proba)).index\n",
    "            g.add_edge(parentId, id)\n",
    "    \n",
    "        parentId = id\n",
    "\n",
    "    return g\n",
    "\n",
    "def print2DUtil(root, space = 0): \n",
    "    if (root == None): \n",
    "        return\n",
    "\n",
    "    space += 10\n",
    "    print2DUtil(root.right, space)  \n",
    "  \n",
    "    # Print current node after space\n",
    "    print()  \n",
    "    for i in range(10, space): \n",
    "        print(end = \" \")  \n",
    "    print(root.name + \" (\" + str(root.proba) + \")\")  \n",
    "  \n",
    "    # Process left child  \n",
    "    print2DUtil(root.left, space)  \n",
    "    \n",
    "root = CreateTree(h)\n",
    "#g = BuildIgGraph(root) # FIXME\n",
    "#ig.plot(g, layout = g.layout_reingold_tilford(root=0), vertex_label_dist = -1, vertex_label=g.vs[\"name\"], bbox = (500, 300))\n",
    "\n",
    "print2DUtil(root)"
   ]
  },
  {
   "cell_type": "markdown",
   "metadata": {},
   "source": [
    "### Q2. Write the function HuffmanGencode which computes the Huffman code of an element in $0,1,2,3,4$  and print it."
   ]
  },
  {
   "cell_type": "code",
   "execution_count": 139,
   "metadata": {},
   "outputs": [
    {
     "name": "stdout",
     "output_type": "stream",
     "text": [
      "{'A': '001', 'B': '011', 'C': '0', 'D': '101', 'E': '111'}\n"
     ]
    }
   ],
   "source": [
    "def getPathFromX(root, path, x): \n",
    "    if (not root): \n",
    "        return False\n",
    "\n",
    "    # if it is the required node  \n",
    "    # return true  \n",
    "    if (root.name == x):      \n",
    "        return True\n",
    "      \n",
    "    # else check whether the required node  \n",
    "    # lies in the left subtree or right  \n",
    "    # subtree of the current node  \n",
    "    if getPathFromX(root.left, path, x):\n",
    "        path.append(0)\n",
    "        return True\n",
    "    if getPathFromX(root.right, path, x):\n",
    "        path.append(1)\n",
    "        return True\n",
    "      \n",
    "    # required node does not lie either in  \n",
    "    # the left or right subtree of the current  \n",
    "    # node. Thus, remove current node's value   \n",
    "    # from 'arr'and then return false\n",
    "    if (len(path) > 1):\n",
    "        path.pop(-1) \n",
    "    return False\n",
    "\n",
    "\n",
    "def getHuffmanKeysUntilLetter(root,letter):\n",
    "    keys = [chr(65 + idx) for idx in range(letter)]\n",
    "    codes = {}\n",
    "    for i, key in enumerate(keys):\n",
    "        path = []\n",
    "        getPathFromX(root, path, key)\n",
    "        pathChain = ''\n",
    "        for d in path:\n",
    "            pathChain += str(d)\n",
    "        codes.update({keys[i]:pathChain})\n",
    "        \n",
    "    return codes\n",
    "\n",
    "# vector to store the path  \n",
    "keys = getHuffmanKeysUntilLetter(root,5)\n",
    "print(keys)"
   ]
  },
  {
   "cell_type": "markdown",
   "metadata": {},
   "source": [
    "### Q3. Write a function that generates a random sequence of numbers between $0$ and $4$ according to the probability $h$."
   ]
  },
  {
   "cell_type": "code",
   "execution_count": 54,
   "metadata": {},
   "outputs": [
    {
     "name": "stdout",
     "output_type": "stream",
     "text": [
      "[2 2 4 3 1 4 4 3 2 4 3 4 2 2 4 3 1 4 2 0 2 2 2 2 3 4 4 4 4 2 4 2 3 3 4 3 1\n",
      " 0 2 3 3 2 2 4 0 2 2 1 4 3 2 4 2 3 3 1 2 2 3 2 1 2 4 2 4 2 3 4 2 4 1 3 3 4\n",
      " 0 3 2 2 4 4 4 4 4 2 2 1 2 1 4 4 4 2 2 2 2 0 0 1 2 2 4 1 3 3 1 2 2 4 4 4 2\n",
      " 1 2 0 2 2 3 1 4 1 2 2 4 0 3 2 2 2 1 2 2 2 4 1 2 2 3 3 2 2 2 3 3 2 3 0 4 0\n",
      " 1 4 4 3 2 4 2 4 1 3 4 0 2 0 4 4 2 3 1 4 0 2 4 2 4 2 3 1 2 2 2 4 2 0 2 2 2\n",
      " 3 2 3 2 3 3 1 3 2 1 4 2 2 1 1 4 2 4 3 2 4 4 2 4 2 2 3 3 1 2 4 2 3 2 4 2 2\n",
      " 1 2 2 2 3 2 4 2 1 4 1 4 1 2 2 2 2 0 2 2 4 4 2 1 1 2 1 4 1 3 2 3 3 2 3 1 1\n",
      " 2 2 2 2 0 2 3 4 2 3 1 2 4 1 4 0 4 2 2 3 2 2 1 2 0 2 0 3 2 2 4 2 2 3 1 1 4\n",
      " 4 2 2 1 2 4 0 2 4 0 2 3 0 2 3 4 2 2 1 2 2 1 0 1 2 4 4 1 1 2 3 4 2 3 0 4 3\n",
      " 2 0 3 2 4 4 2 0 2 2 4 2 4 2 3 4 2 4 4 1 3 2 3 2 4 2 3 2 2 2 0 3 2 1 2 2 0\n",
      " 2 0 1 0 2 3 2 2 2 1 2 4 2 2 3 2 3 1 0 2 2 4 2 2 4 2 3 2 1 4 4 2 1 4 1 1 1\n",
      " 2 2 1 2 4 0 2 3 3 1 4 2 3 2 2 2 2 4 2 3 4 4 3 0 2 2 4 2 0 3 2 4 2 2 1 1 2\n",
      " 3 2 0 2 0 0 2 0 3 1 0 2 4 4 0 2 2 3 4 2 2 2 4 2 1 4 2 4 3 2 2 3 1 0 1 3 1\n",
      " 2 1 3 2 4 2 2 2 4 4 3 4 3 2 2 3 2 0 2 1 4 1 2 1 0 1 2 2 0 2 0]\n"
     ]
    }
   ],
   "source": [
    "from numpy.random import random_sample\n",
    "\n",
    "def weighted_values(values, probabilities, size):\n",
    "    x = np.add.accumulate(probabilities)\n",
    "    return values[np.digitize(random_sample(size), x)]\n",
    "\n",
    "def RandGen(p, number):\n",
    "    sq =  np.array([0,1,2,3,4])\n",
    "    return weighted_values(sq, h, number)\n",
    "\n",
    "x = RandGen(h, 512)\n",
    "print(x) "
   ]
  },
  {
   "cell_type": "markdown",
   "metadata": {},
   "source": [
    "### Q4. Write a function which maps a random sequence as above into its Huffman code and test it."
   ]
  },
  {
   "cell_type": "code",
   "execution_count": 55,
   "metadata": {},
   "outputs": [
    {
     "name": "stdout",
     "output_type": "stream",
     "text": [
      "1\n",
      "1\n"
     ]
    },
    {
     "ename": "IndexError",
     "evalue": "list index out of range",
     "output_type": "error",
     "traceback": [
      "\u001b[1;31m---------------------------------------------------------------------------\u001b[0m",
      "\u001b[1;31mIndexError\u001b[0m                                Traceback (most recent call last)",
      "\u001b[1;32m<ipython-input-55-f81ed961798b>\u001b[0m in \u001b[0;36m<module>\u001b[1;34m\u001b[0m\n\u001b[0;32m      6\u001b[0m     \u001b[1;32mreturn\u001b[0m \u001b[0mresult\u001b[0m\u001b[1;33m\u001b[0m\u001b[1;33m\u001b[0m\u001b[0m\n\u001b[0;32m      7\u001b[0m \u001b[1;33m\u001b[0m\u001b[0m\n\u001b[1;32m----> 8\u001b[1;33m \u001b[0mcode\u001b[0m \u001b[1;33m=\u001b[0m \u001b[0mCodeHuffman\u001b[0m\u001b[1;33m(\u001b[0m\u001b[0mx\u001b[0m\u001b[1;33m,\u001b[0m \u001b[0mcodes\u001b[0m\u001b[1;33m)\u001b[0m\u001b[1;33m\u001b[0m\u001b[1;33m\u001b[0m\u001b[0m\n\u001b[0m\u001b[0;32m      9\u001b[0m \u001b[0mprint\u001b[0m\u001b[1;33m(\u001b[0m\u001b[0mcode\u001b[0m\u001b[1;33m)\u001b[0m\u001b[1;33m\u001b[0m\u001b[1;33m\u001b[0m\u001b[0m\n",
      "\u001b[1;32m<ipython-input-55-f81ed961798b>\u001b[0m in \u001b[0;36mCodeHuffman\u001b[1;34m(x, codes)\u001b[0m\n\u001b[0;32m      2\u001b[0m     \u001b[0mresult\u001b[0m \u001b[1;33m=\u001b[0m \u001b[1;34m\"\"\u001b[0m\u001b[1;33m\u001b[0m\u001b[1;33m\u001b[0m\u001b[0m\n\u001b[0;32m      3\u001b[0m     \u001b[1;32mfor\u001b[0m \u001b[0melt\u001b[0m \u001b[1;32min\u001b[0m \u001b[0mx\u001b[0m\u001b[1;33m:\u001b[0m\u001b[1;33m\u001b[0m\u001b[1;33m\u001b[0m\u001b[0m\n\u001b[1;32m----> 4\u001b[1;33m         \u001b[0mprint\u001b[0m\u001b[1;33m(\u001b[0m\u001b[0mcodes\u001b[0m\u001b[1;33m[\u001b[0m\u001b[0melt\u001b[0m\u001b[1;33m]\u001b[0m\u001b[1;33m)\u001b[0m\u001b[1;33m\u001b[0m\u001b[1;33m\u001b[0m\u001b[0m\n\u001b[0m\u001b[0;32m      5\u001b[0m         \u001b[0mresult\u001b[0m \u001b[1;33m+=\u001b[0m \u001b[0mstr\u001b[0m\u001b[1;33m(\u001b[0m\u001b[0mcodes\u001b[0m\u001b[1;33m[\u001b[0m\u001b[0melt\u001b[0m\u001b[1;33m]\u001b[0m\u001b[1;33m)\u001b[0m\u001b[1;33m\u001b[0m\u001b[1;33m\u001b[0m\u001b[0m\n\u001b[0;32m      6\u001b[0m     \u001b[1;32mreturn\u001b[0m \u001b[0mresult\u001b[0m\u001b[1;33m\u001b[0m\u001b[1;33m\u001b[0m\u001b[0m\n",
      "\u001b[1;31mIndexError\u001b[0m: list index out of range"
     ]
    }
   ],
   "source": [
    "# FIXME\n",
    "def CodeHuffman(x, codes):\n",
    "    result = \"\"\n",
    "    for elt in x:\n",
    "        print(codes[elt])\n",
    "        result += str(codes[elt])\n",
    "    return result\n",
    "\n",
    "code = CodeHuffman(x, codes)\n",
    "print(code)"
   ]
  },
  {
   "cell_type": "markdown",
   "metadata": {},
   "source": [
    "### Q5. Compare with the Shannon bound.\n",
    "\n",
    "### Q6. Write below a function that decodes the Huffman code and test it on a random sequence. Check that it is the inverse of the coding map."
   ]
  },
  {
   "cell_type": "code",
   "execution_count": null,
   "metadata": {},
   "outputs": [],
   "source": [
    "def DecodeHuffman(code,T):\n",
    "    result = []\n",
    "    return np.asarray(result)"
   ]
  },
  {
   "cell_type": "markdown",
   "metadata": {},
   "source": [
    "### Block Huffman coding to reach better performances. \n",
    "### We consider a probability as below on an alphabet of two letters $a,b$.\n",
    "\n",
    "### Q7: Compute the entropy associated with this probability and generalize for an alphabet described by blocks of $k$ letters."
   ]
  },
  {
   "cell_type": "code",
   "execution_count": null,
   "metadata": {},
   "outputs": [],
   "source": [
    "t = .12\n",
    "h = [t, 1-t]\n",
    "n = 20000\n",
    "x = (np.random.rand(n) > t) + 1"
   ]
  },
  {
   "cell_type": "markdown",
   "metadata": {},
   "source": [
    "### Q7bis. Compare the length of the Huffman code and the Shannon bound. How to explain the difference ? In order to improve the result, we use Huffman coding on blocks of length $k$. "
   ]
  },
  {
   "cell_type": "markdown",
   "metadata": {},
   "source": [
    "### Q8. Write a code that takes as input a sequence of length $k$ of letters and associate a binary code. Then, write a function that takes as inputs a random sequence its code by block of length $k$. We assume that the length is a multiple of $k$."
   ]
  },
  {
   "cell_type": "code",
   "execution_count": null,
   "metadata": {},
   "outputs": [],
   "source": [
    "def CodeBlocks(x):\n",
    "    return 0\n",
    "def GenNewCode(x):\n",
    "    return 0"
   ]
  },
  {
   "cell_type": "markdown",
   "metadata": {},
   "source": [
    "### Q9. Write a function that gives the empirical probability of the message encoded by $k$-blocks."
   ]
  },
  {
   "cell_type": "code",
   "execution_count": null,
   "metadata": {},
   "outputs": [],
   "source": [
    "def EstimateProbabilites(code,taille_blocs):\n",
    "    return 0"
   ]
  },
  {
   "cell_type": "markdown",
   "metadata": {},
   "source": [
    "### Q10. Given a random sequence generated from the probability $h$, plot the performance of the Huffman code (length of the code - Shannon bound) in terms of $k$ the block length. Comment."
   ]
  },
  {
   "cell_type": "markdown",
   "metadata": {},
   "source": [
    "## B. The goal of this part is to explore implementations of a FIR or an IIR."
   ]
  },
  {
   "cell_type": "markdown",
   "metadata": {},
   "source": [
    "### Q1. Implement an ideal low pass filter using Fourier transform in 1D:\n",
    "### Compute the inverse FFT of a low pass filter and cut it with a window that will be passed in argument. "
   ]
  },
  {
   "cell_type": "markdown",
   "metadata": {},
   "source": [
    "### Q2. Implement an IIR filter defined by its numerator which will be set to a  constant $b$ and its denominator which will be set to $1-az^{-1}$. \n",
    "\n",
    "#### What can you say about the range of the parameter $a$ in order to obtain a stable filter. \n",
    "#### Experimentally, determine the ranges of $a$ to get respectively a low-pass filter and a high-pass filter. Give a theoretical explanation."
   ]
  },
  {
   "cell_type": "markdown",
   "metadata": {},
   "source": [
    "### In the following, we are given an electrocardiogram. We plot it as a function of time and we "
   ]
  },
  {
   "cell_type": "code",
   "execution_count": null,
   "metadata": {},
   "outputs": [],
   "source": [
    "### load the data which is an electrocardiogram which is sampled at 360Hz\n",
    "ecg = sp.misc.electrocardiogram()\n",
    "### Different plots.\n",
    "fs = 360.0\n",
    "### Since it is sampled at 360Hz, recall that Hz is the number of cycle per second, then the\n",
    "### time is obtained as follows:\n",
    "time = np.arange(ecg.size) / fs\n",
    "### simple plot.\n",
    "plt.plot(time, ecg)\n",
    "plt.xlabel(\"time in s\")\n",
    "plt.ylabel(\"ECG in mV\")\n",
    "plt.xlim(9, 10.2)\n",
    "plt.ylim(-1, 1.5)\n",
    "plt.show()\n",
    "print(\"time min\", time[0])\n",
    "print(\"time max\", time[-1])"
   ]
  },
  {
   "cell_type": "code",
   "execution_count": null,
   "metadata": {},
   "outputs": [],
   "source": [
    "### Use the scipy function to get the power spectrum of the signal.\n",
    "f, Pxx = sg.welch(ecg, fs=fs, nperseg=2048, scaling=\"spectrum\")\n",
    "plt.semilogy(f, Pxx)\n",
    "plt.xlabel(\"Frequency in Hz\")\n",
    "plt.ylabel(\"Power spectrum of the ECG in mV**2\")\n",
    "plt.xlim(f[[0, -1]])\n",
    "plt.show()"
   ]
  },
  {
   "cell_type": "markdown",
   "metadata": {},
   "source": [
    "### Q3. Estimate the number of heartbeats in the following electrocardiogram and estimate the mean value of the interval between two heartbeats. You can use the method of your choice. A possible method consists in using a band pass filter and then extract the maximum values of the filtered signal."
   ]
  },
  {
   "cell_type": "code",
   "execution_count": null,
   "metadata": {},
   "outputs": [],
   "source": []
  }
 ],
 "metadata": {
  "kernelspec": {
   "display_name": "Python 3",
   "language": "python",
   "name": "python3"
  },
  "language_info": {
   "codemirror_mode": {
    "name": "ipython",
    "version": 3
   },
   "file_extension": ".py",
   "mimetype": "text/x-python",
   "name": "python",
   "nbconvert_exporter": "python",
   "pygments_lexer": "ipython3",
   "version": "3.8.6"
  }
 },
 "nbformat": 4,
 "nbformat_minor": 4
}
