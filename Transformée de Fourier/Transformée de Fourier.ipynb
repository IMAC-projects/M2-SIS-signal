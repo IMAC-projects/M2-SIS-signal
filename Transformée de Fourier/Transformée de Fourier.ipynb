{
 "cells": [
  {
   "cell_type": "markdown",
   "metadata": {},
   "source": [
    "# Transformée de Fourier\n",
    "\n",
    "> La transformée de Fourier est une opération qui transforme une fonction intégrable sur $ \\mathbb{R} $ en une autre fonction.\n",
    "\n",
    "\n",
    "## Sommaire\n",
    "\n",
    "[**Signaux continus en 1D**](#Signaux-continus-en-1D)\n",
    "\n",
    "[**Propriétés de la TF**](#Propriétés-de-la-TF)"
   ]
  },
  {
   "cell_type": "markdown",
   "metadata": {},
   "source": [
    "## Signaux continus en 1D"
   ]
  },
  {
   "cell_type": "markdown",
   "metadata": {},
   "source": [
    "Deux espaces :  \n",
    "* $ L^1(\\mathbb{R}) = \\left\\{  f: \\mathbb{R} -> \\mathbb{R}; \\ \\int_{\\mathbb{R}}^{} | f(x) | \\ dx < + \\infty \\right\\} $\n",
    "* $ L^2(\\mathbb{R}, \\mathbb{C}) = \\left\\{  f: \\mathbb{R} -> \\mathbb{C}; \\ \\int_{\\mathbb{R}}^{} | f(x) |^2 \\ dx < + \\infty \\right\\} $\n",
    "\n",
    "$ L^2 $ correspond à **l'énergie finie**\n",
    "\n",
    "**<font color=red>Produit hermitien </font>** sur l'espace des signaux d'énergie finie : $$ <f,g> \\ = \\int_{\\mathbb{R}}^{} f(x)\\ \\overline{g(x)} \\ dx $$\n",
    "avec $\\overline{a}$ le complexe conjugué de a et a $\\in \\mathbb{C}$.\n",
    "\n",
    "$ \\left\\{  \\begin{array}{ll} a = a_{1} + ia_{2} \\\\ \n",
    "\\overline{a} = a_1 - ia_2 \\end{array} \\right. $\n",
    "\n",
    "**<font color=red>Attention</font>** : On a bien $$ \\int_{\\mathbb{R}}^{} f(x)\\overline{f}(x) \\ dx = \\int_{\\mathbb{R}}^{} |f(x)|^2 \\ dx \\leq 0 \\ \\\\ \\text{et nul ssi} \\ f = 0$$\n",
    "\n",
    "Quelques propriétés sur les scalaires : \n",
    "* $ <f,g> = \\overline{<g,f>} $\n",
    "* $ <f+ \\lambda h, g> \\ = \\ <f,g> + \\lambda <h,g> $\n",
    "* $ <f,g + \\lambda h> \\ = \\ <f,g> + \\overline{\\lambda} <f,h> $\n",
    "\n",
    "$$ \\\\ $$\n",
    "\n",
    "**<font color=red>Définition</font>** : Soit $ f \\in L^1(\\mathbb{R}) $. La transformée de Fourier de $f$ est définie par :\n",
    "\n",
    "$$ TF(f)(\\omega) = \\hat{f}(\\omega) = \\int_{\\mathbb{R}}^{} f(t) e^{-2i\\pi \\omega t} \\ dt \\\\ \n",
    "avec \\ \\omega \\in \\mathbb{R} $$\n",
    "\n",
    "\n",
    "Ici, on passe du domaine **temporel** au domaine **fréquentiel**.\n",
    "\n",
    "\n",
    "\n",
    "*Pourquoi retrouve-t-on le signe $ - $ devant $ 2i\\pi \\omega t$ ?* \n",
    "La transformée de Fourier utilise le produit scalaire $ <f,e_\\omega> $, dans lequel on utilise le **conjugué**.\n",
    "\n",
    "**<font color=red>Remarque</font>** : $ L^1(\\mathbb{R}) $ contient des fonctions discontinues mais on a une condition d'intégrabilité.\n",
    "\n",
    "$ TF(f)(\\omega) $ est bien définie car $$ | < f,e_{\\omega} > | \\leq \\int_{\\mathbb{R}}^{} | f(x) e^{-2i\\pi \\omega x} | \\ dx =  \\int_{\\mathbb{R}}^{}  | f(x) | \\ dx \\le + \\infty $$\n",
    "\n",
    "donc $ \\forall \\omega \\ | \\hat{f}(\\omega) | \\leq \\int_{\\mathbb{R}}^{} | f(x) | \\ dx $ avec $\\omega$ la fréquence en $Hz$\n",
    "\n",
    "## Propriétés de la TF\n",
    "\n",
    "* **<font color=red>Linéarité </font>** : $$ TF(af + bg) = aTF(f) + bTF(g) \n",
    "\\\\ avec \\ a,b \\in \\mathbb{R} \\ et \\ f,g \\in L^1(\\mathbb{R}) $$\n",
    "\n",
    "\n",
    "\n",
    "* **<font color=red>Translation </font>** : Soit $ a \\in \\mathbb{R} $ et $ f : \\mathbb{R} \\to \\mathbb{C} $. On définit la translation de $f$ par $a$ : \n",
    "$$ \\tau_a(f)(x) \\to f(x-a) $$\n",
    "\n",
    "**Démonstration** : \n",
    "\n",
    "$$ \\hat{\\tau_a(f)} = \\int_{\\mathbb{R}}^{} \\tau_a(f)e^{-2i\\pi \\omega x} \\ dx\n",
    "\\\\ = \\int_{\\mathbb{R}}^{} f(x-a)e^{-2i\\pi \\omega x} \\ dx\n",
    "\\\\ \\text{On pose} \\ u = x-a \\ \\text{(changement de variable)}\n",
    "\\\\ = \\int_{\\mathbb{R}}^{} f(u)e^{-2i\\pi \\omega (u+a)} \\ d(u+a)\n",
    "\\\\ = e^{-2i\\pi \\omega a} \\int_{\\mathbb{R}}^{} f(u)e^{-2i\\pi \\omega u} \\ du\n",
    "\\\\ = e^{-2i\\pi \\omega a} \\hat{f}(\\omega) $$\n",
    "\n",
    "Soit $\\omega_0 \\in \\mathbb{R} $ alors $ x \\to e^{2i \\pi \\omega_0 x} f(x) = f_{w_0} $\n",
    "\n",
    "$$ TF(f_{w_0}) = \\int_{\\mathbb{R}}^{} f(x) e^{2i\\pi \\omega_0 x} e^{-2i\\pi \\omega x} \\ dx\n",
    "\\\\ \\int_{\\mathbb{R}}^{} f(x) e^{2i\\pi (\\omega - \\omega_0) x} \\ dx $$\n",
    "\n",
    "On a donc $$ \\hat{f_{w_0}} = \\tau_{w_0}(\\hat{f}) $$ qui est la **translation**\n",
    "\n",
    "\n",
    "* **<font color=red>Dilatation du temps </font>**  : $ D_a(f)(x) = f(ax) $ avec $ a > 0 $\n",
    "Quelle est la TF (Da(f)) ? \n",
    "\n",
    "$$ \\int_{\\mathbb{R}}^{} f(ax) e^{-2i\\pi \\omega x} \\ dx\n",
    "\\\\ \\text{On pose} \\ u = ax\n",
    "\\\\ = \\int_{\\mathbb{R}}^{} f(u) e^{-2i\\pi \\omega \\frac{u}{a}} \\ \\frac{du}{a}\n",
    "\\\\ = \\frac{1}{a}\\hat{f}(\\frac{\\omega}{a}) $$\n",
    "\n",
    "Si $a < 0 $ :\n",
    "$$ TF(D_a(f)) = \\frac{1}{| a |} \\hat{f}(\\frac{\\omega}{a}) $$"
   ]
  },
  {
   "cell_type": "code",
   "execution_count": null,
   "metadata": {},
   "outputs": [],
   "source": []
  }
 ],
 "metadata": {
  "kernelspec": {
   "display_name": "Python 3",
   "language": "python",
   "name": "python3"
  },
  "language_info": {
   "codemirror_mode": {
    "name": "ipython",
    "version": 3
   },
   "file_extension": ".py",
   "mimetype": "text/x-python",
   "name": "python",
   "nbconvert_exporter": "python",
   "pygments_lexer": "ipython3",
   "version": "3.7.6"
  }
 },
 "nbformat": 4,
 "nbformat_minor": 4
}
